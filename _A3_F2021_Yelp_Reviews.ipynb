{
  "nbformat": 4,
  "nbformat_minor": 0,
  "metadata": {
    "colab": {
      "name": "*A3 F2021 - Yelp Reviews.ipynb",
      "provenance": [],
      "collapsed_sections": []
    },
    "kernelspec": {
      "name": "python3",
      "display_name": "Python 3"
    }
  },
  "cells": [
    {
      "cell_type": "markdown",
      "metadata": {
        "id": "fQCckftPtiho"
      },
      "source": [
        "# Assignment 3 - Working with data\n",
        "\n",
        "**Rationale**. In this assignment, you will practice reading/writing common dataset formats, execute conditional subsetting of data, merge data, and perform groupby summaries. \n",
        "\n",
        "Please comment your code for potential partial credit and to explain to me that you understand what you are doing. As always, feel free to add additional cells.\n",
        "\n",
        "For any questions that requires a **text answer: make sure to type your answers in a text cell.**\n",
        "\n",
        "(Make sure you've ) Save(d) the [datasets](https://drive.google.com/drive/folders/1wpphG0kRidK8W9DT79spBufId8jWCUvC?usp=sharing) in this folder to your Google Drive.\n",
        "\n",
        "1. [Quebec Yelp Reviews](https://drive.google.com/file/d/1pmnps16-kI8VJaIizNXaOFyW0IZs_pZo/view?usp=sharing)\n",
        "1.  [Quebec Business Info](https://drive.google.com/file/d/1eT72WiYI7xXT7wiNfo2w1uhxVC0qIage/view?usp=sharing)\n"
      ]
    },
    {
      "cell_type": "code",
      "metadata": {
        "colab": {
          "base_uri": "https://localhost:8080/"
        },
        "id": "Zd9CMkZK_CzM",
        "outputId": "b2a3b1f7-8ed9-4b2e-da24-22759b99820e"
      },
      "source": [
        "# first, mount your GDrive\n",
        "from google.colab import drive\n",
        "drive.mount('drive')"
      ],
      "execution_count": 1,
      "outputs": [
        {
          "output_type": "stream",
          "name": "stdout",
          "text": [
            "Mounted at drive\n"
          ]
        }
      ]
    },
    {
      "cell_type": "markdown",
      "metadata": {
        "id": "qzhQQ8p7ukHQ"
      },
      "source": [
        "# Problem 1 (2 points)\n",
        "\n",
        "Read in the Quebec Yelp dataset from your Google Drive. Make sure that there are no \"Unnamed\" columns - if so, you've read in the index_col as a regular column. Make sure that the index corresponds to the row of the dataset using the `.reset_index` method. Convert \"Date\" column to a Pandas datetime format.\n",
        "\n",
        "1. What is the observational unit of this dataset? (What does each row represent?)\n",
        "1. How many rows are in this dataset? columns?\n",
        "1. When was the earliest review written? latest?"
      ]
    },
    {
      "cell_type": "markdown",
      "metadata": {
        "id": "TC-OPIJ4bahe"
      },
      "source": [
        "## Problem 1 Answers (edit this cell)\n",
        "\n",
        "1. Each row represents one **review**\n",
        "1. There are **208166** rows in the dataset\n",
        "    1. There are **9** columns in the dataset excluding the index.\n",
        "1. The first review is written on **6/26/12**.\n",
        "    1. The last review is written on **5/5/19**."
      ]
    },
    {
      "cell_type": "code",
      "metadata": {
        "id": "BQaBBKSe_eyv",
        "colab": {
          "base_uri": "https://localhost:8080/"
        },
        "outputId": "8b187c1b-66a7-4344-8469-f84c4d2f3b5a"
      },
      "source": [
        "# import any necessary libraries here\n",
        "\n",
        "import os\n",
        "os.listdir('drive/My Drive/3509')"
      ],
      "execution_count": 4,
      "outputs": [
        {
          "output_type": "execute_result",
          "data": {
            "text/plain": [
              "['Copy_of_A1_Georgeea_Daskalopoulos.ipynb',\n",
              " 'Assignment 1',\n",
              " 'Quebec_biz.csv',\n",
              " 'quebec_yelp_reviews.csv']"
            ]
          },
          "metadata": {},
          "execution_count": 4
        }
      ]
    },
    {
      "cell_type": "code",
      "metadata": {
        "id": "9NL2eM9K_hSp",
        "colab": {
          "base_uri": "https://localhost:8080/"
        },
        "outputId": "adb3a7d9-7699-4d9a-c5b0-0bf3f804809b"
      },
      "source": [
        "# First, list the folder containing your data\n",
        "# fpath = 'path/to/your/data'\n",
        "# os.listdir(fpath) \n",
        "# this should return a list containing the quebec_biz \n",
        "# and quebec_yelp_reviews datasets\n",
        "\n",
        "fpath = 'drive/My Drive/3509'\n",
        "os.listdir(fpath)"
      ],
      "execution_count": 13,
      "outputs": [
        {
          "output_type": "execute_result",
          "data": {
            "text/plain": [
              "['Copy_of_A1_Georgeea_Daskalopoulos.ipynb',\n",
              " 'Assignment 1',\n",
              " 'Quebec_biz.csv',\n",
              " 'quebec_yelp_reviews.csv']"
            ]
          },
          "metadata": {},
          "execution_count": 13
        }
      ]
    },
    {
      "cell_type": "code",
      "metadata": {
        "id": "6biVqdDRABiK"
      },
      "source": [
        "# read in the reviews data\n",
        "# pick a variable name for the reviews dataframe\n",
        "# and set its value by reading in the appropriate dataset\n",
        "# df = pd.read_csv(fpath + 'review_dataset_filename.csv', index_col = 0)\n",
        "# you can call the dataframe something other than df\n",
        "\n",
        "import pandas as pd\n",
        "df = pd.read_csv('drive/My Drive/3509/quebec_yelp_reviews.csv', index_col=0)\n"
      ],
      "execution_count": 44,
      "outputs": []
    },
    {
      "cell_type": "code",
      "metadata": {
        "id": "iAeNSzxJCdw0",
        "colab": {
          "base_uri": "https://localhost:8080/",
          "height": 206
        },
        "outputId": "7320e9b8-0f8f-4c9e-b0d9-b66a07a310d2"
      },
      "source": [
        "# preview the dataframe's first 5 rows using the .head() method\n",
        "# what unit of observation does each row represent?\n",
        "\n",
        "df.head()\n"
      ],
      "execution_count": 45,
      "outputs": [
        {
          "output_type": "execute_result",
          "data": {
            "text/html": [
              "<div>\n",
              "<style scoped>\n",
              "    .dataframe tbody tr th:only-of-type {\n",
              "        vertical-align: middle;\n",
              "    }\n",
              "\n",
              "    .dataframe tbody tr th {\n",
              "        vertical-align: top;\n",
              "    }\n",
              "\n",
              "    .dataframe thead th {\n",
              "        text-align: right;\n",
              "    }\n",
              "</style>\n",
              "<table border=\"1\" class=\"dataframe\">\n",
              "  <thead>\n",
              "    <tr style=\"text-align: right;\">\n",
              "      <th></th>\n",
              "      <th>review_id</th>\n",
              "      <th>user_id</th>\n",
              "      <th>business_id</th>\n",
              "      <th>useful</th>\n",
              "      <th>funny</th>\n",
              "      <th>cool</th>\n",
              "      <th>text</th>\n",
              "      <th>date</th>\n",
              "      <th>stars</th>\n",
              "    </tr>\n",
              "  </thead>\n",
              "  <tbody>\n",
              "    <tr>\n",
              "      <th>0</th>\n",
              "      <td>sybVjriZuCEH09zplkcXAw</td>\n",
              "      <td>qkJtn0Rtz_lKlTs5azBkng</td>\n",
              "      <td>tOhRQqiupLyJdBJVQMGOEQ</td>\n",
              "      <td>0</td>\n",
              "      <td>0</td>\n",
              "      <td>0</td>\n",
              "      <td>AMAZING. Simply amazing. Believe all of the hy...</td>\n",
              "      <td>2013-12-29</td>\n",
              "      <td>5</td>\n",
              "    </tr>\n",
              "    <tr>\n",
              "      <th>1</th>\n",
              "      <td>uZ66BJLPMx6mJAY_6bi8vQ</td>\n",
              "      <td>kNL4SpfIdMC8GywGayDEOw</td>\n",
              "      <td>tOhRQqiupLyJdBJVQMGOEQ</td>\n",
              "      <td>0</td>\n",
              "      <td>0</td>\n",
              "      <td>0</td>\n",
              "      <td>Montreal bagels were well worth the experience...</td>\n",
              "      <td>2016-07-14</td>\n",
              "      <td>4</td>\n",
              "    </tr>\n",
              "    <tr>\n",
              "      <th>2</th>\n",
              "      <td>uRPUL-YSYuaJZLQp3Z0QlA</td>\n",
              "      <td>dSeYpzf0JkCeARr_CyCh7A</td>\n",
              "      <td>tOhRQqiupLyJdBJVQMGOEQ</td>\n",
              "      <td>1</td>\n",
              "      <td>2</td>\n",
              "      <td>0</td>\n",
              "      <td>Montreal, what did you do in a previous life t...</td>\n",
              "      <td>2012-06-26</td>\n",
              "      <td>1</td>\n",
              "    </tr>\n",
              "    <tr>\n",
              "      <th>3</th>\n",
              "      <td>AGxEC3EtPW1vZH3v2DnPFA</td>\n",
              "      <td>ZhK2xIa4f73JZfua7IP8vA</td>\n",
              "      <td>tOhRQqiupLyJdBJVQMGOEQ</td>\n",
              "      <td>0</td>\n",
              "      <td>0</td>\n",
              "      <td>1</td>\n",
              "      <td>St-Viateur is better, as bagels and as human b...</td>\n",
              "      <td>2016-02-24</td>\n",
              "      <td>3</td>\n",
              "    </tr>\n",
              "    <tr>\n",
              "      <th>4</th>\n",
              "      <td>7rBHa16cZexmPopeVrGKBw</td>\n",
              "      <td>ClJirlfCI0W0CfpYaWdfEw</td>\n",
              "      <td>tOhRQqiupLyJdBJVQMGOEQ</td>\n",
              "      <td>0</td>\n",
              "      <td>1</td>\n",
              "      <td>1</td>\n",
              "      <td>The bagels are good but first they had me writ...</td>\n",
              "      <td>2015-05-26</td>\n",
              "      <td>2</td>\n",
              "    </tr>\n",
              "  </tbody>\n",
              "</table>\n",
              "</div>"
            ],
            "text/plain": [
              "                review_id                 user_id  ...        date  stars\n",
              "0  sybVjriZuCEH09zplkcXAw  qkJtn0Rtz_lKlTs5azBkng  ...  2013-12-29      5\n",
              "1  uZ66BJLPMx6mJAY_6bi8vQ  kNL4SpfIdMC8GywGayDEOw  ...  2016-07-14      4\n",
              "2  uRPUL-YSYuaJZLQp3Z0QlA  dSeYpzf0JkCeARr_CyCh7A  ...  2012-06-26      1\n",
              "3  AGxEC3EtPW1vZH3v2DnPFA  ZhK2xIa4f73JZfua7IP8vA  ...  2016-02-24      3\n",
              "4  7rBHa16cZexmPopeVrGKBw  ClJirlfCI0W0CfpYaWdfEw  ...  2015-05-26      2\n",
              "\n",
              "[5 rows x 9 columns]"
            ]
          },
          "metadata": {},
          "execution_count": 45
        }
      ]
    },
    {
      "cell_type": "code",
      "metadata": {
        "id": "urLjFro_CJWB",
        "colab": {
          "base_uri": "https://localhost:8080/"
        },
        "outputId": "87f705cd-9180-43f3-fa4e-fd40c3430bc4"
      },
      "source": [
        "# compute the shape of the dataset to return (rows, columns)\n",
        "# use the .shape method\n",
        "\n",
        "df.shape"
      ],
      "execution_count": 46,
      "outputs": [
        {
          "output_type": "execute_result",
          "data": {
            "text/plain": [
              "(208166, 9)"
            ]
          },
          "metadata": {},
          "execution_count": 46
        }
      ]
    },
    {
      "cell_type": "code",
      "metadata": {
        "id": "BDFGrOypB9zw",
        "colab": {
          "base_uri": "https://localhost:8080/"
        },
        "outputId": "e4d756d4-0a35-4edb-919e-a1780d75b74d"
      },
      "source": [
        "# take a look at the column names by accessing the dataframe's column attribute, \n",
        "# e.g. df.columns.values (but replace df with the name you picked)\n",
        "\n",
        "df.columns.values\n"
      ],
      "execution_count": 85,
      "outputs": [
        {
          "output_type": "execute_result",
          "data": {
            "text/plain": [
              "array(['review_id', 'user_id', 'business_id', 'useful', 'funny', 'cool',\n",
              "       'text', 'date', 'stars'], dtype=object)"
            ]
          },
          "metadata": {},
          "execution_count": 85
        }
      ]
    },
    {
      "cell_type": "code",
      "metadata": {
        "id": "KfAtvXVtCHnk",
        "colab": {
          "base_uri": "https://localhost:8080/",
          "height": 322
        },
        "outputId": "205eafeb-442e-4c84-e22b-06efbfcbdd02"
      },
      "source": [
        "# find the date column above, convert the column to pandas datetime series\n",
        "# using the pd.to_datetime(....) function\n",
        "\n",
        "\n",
        "pd.to_datetime(df.Date)\n"
      ],
      "execution_count": 104,
      "outputs": [
        {
          "output_type": "error",
          "ename": "AttributeError",
          "evalue": "ignored",
          "traceback": [
            "\u001b[0;31m---------------------------------------------------------------------------\u001b[0m",
            "\u001b[0;31mAttributeError\u001b[0m                            Traceback (most recent call last)",
            "\u001b[0;32m<ipython-input-104-d00c4bce03c2>\u001b[0m in \u001b[0;36m<module>\u001b[0;34m()\u001b[0m\n\u001b[1;32m      3\u001b[0m \u001b[0;34m\u001b[0m\u001b[0m\n\u001b[1;32m      4\u001b[0m \u001b[0;34m\u001b[0m\u001b[0m\n\u001b[0;32m----> 5\u001b[0;31m \u001b[0mpd\u001b[0m\u001b[0;34m.\u001b[0m\u001b[0mto_datetime\u001b[0m\u001b[0;34m(\u001b[0m\u001b[0mdf\u001b[0m\u001b[0;34m.\u001b[0m\u001b[0mDate\u001b[0m\u001b[0;34m)\u001b[0m\u001b[0;34m\u001b[0m\u001b[0;34m\u001b[0m\u001b[0m\n\u001b[0m",
            "\u001b[0;32m/usr/local/lib/python3.7/dist-packages/pandas/core/generic.py\u001b[0m in \u001b[0;36m__getattr__\u001b[0;34m(self, name)\u001b[0m\n\u001b[1;32m   5139\u001b[0m             \u001b[0;32mif\u001b[0m \u001b[0mself\u001b[0m\u001b[0;34m.\u001b[0m\u001b[0m_info_axis\u001b[0m\u001b[0;34m.\u001b[0m\u001b[0m_can_hold_identifiers_and_holds_name\u001b[0m\u001b[0;34m(\u001b[0m\u001b[0mname\u001b[0m\u001b[0;34m)\u001b[0m\u001b[0;34m:\u001b[0m\u001b[0;34m\u001b[0m\u001b[0;34m\u001b[0m\u001b[0m\n\u001b[1;32m   5140\u001b[0m                 \u001b[0;32mreturn\u001b[0m \u001b[0mself\u001b[0m\u001b[0;34m[\u001b[0m\u001b[0mname\u001b[0m\u001b[0;34m]\u001b[0m\u001b[0;34m\u001b[0m\u001b[0;34m\u001b[0m\u001b[0m\n\u001b[0;32m-> 5141\u001b[0;31m             \u001b[0;32mreturn\u001b[0m \u001b[0mobject\u001b[0m\u001b[0;34m.\u001b[0m\u001b[0m__getattribute__\u001b[0m\u001b[0;34m(\u001b[0m\u001b[0mself\u001b[0m\u001b[0;34m,\u001b[0m \u001b[0mname\u001b[0m\u001b[0;34m)\u001b[0m\u001b[0;34m\u001b[0m\u001b[0;34m\u001b[0m\u001b[0m\n\u001b[0m\u001b[1;32m   5142\u001b[0m \u001b[0;34m\u001b[0m\u001b[0m\n\u001b[1;32m   5143\u001b[0m     \u001b[0;32mdef\u001b[0m \u001b[0m__setattr__\u001b[0m\u001b[0;34m(\u001b[0m\u001b[0mself\u001b[0m\u001b[0;34m,\u001b[0m \u001b[0mname\u001b[0m\u001b[0;34m:\u001b[0m \u001b[0mstr\u001b[0m\u001b[0;34m,\u001b[0m \u001b[0mvalue\u001b[0m\u001b[0;34m)\u001b[0m \u001b[0;34m->\u001b[0m \u001b[0;32mNone\u001b[0m\u001b[0;34m:\u001b[0m\u001b[0;34m\u001b[0m\u001b[0;34m\u001b[0m\u001b[0m\n",
            "\u001b[0;31mAttributeError\u001b[0m: 'DataFrame' object has no attribute 'Date'"
          ]
        }
      ]
    },
    {
      "cell_type": "code",
      "metadata": {
        "id": "wGI0r7VvCpDB",
        "colab": {
          "base_uri": "https://localhost:8080/"
        },
        "outputId": "2c530b64-56d7-4326-90ac-6123101c5b2c"
      },
      "source": [
        "# find the smallest date (use the .min method)\n",
        "df.date.min\n"
      ],
      "execution_count": 83,
      "outputs": [
        {
          "output_type": "execute_result",
          "data": {
            "text/plain": [
              "<bound method Series.min of 0         2013-12-29\n",
              "1         2016-07-14\n",
              "2         2012-06-26\n",
              "3         2016-02-24\n",
              "4         2015-05-26\n",
              "             ...    \n",
              "208161    2018-01-14\n",
              "208162    2019-09-06\n",
              "208163    2017-08-19\n",
              "208164    2019-10-29\n",
              "208165    2019-05-05\n",
              "Name: date, Length: 208166, dtype: object>"
            ]
          },
          "metadata": {},
          "execution_count": 83
        }
      ]
    },
    {
      "cell_type": "code",
      "metadata": {
        "id": "ANUiN-5WC7lK",
        "colab": {
          "base_uri": "https://localhost:8080/"
        },
        "outputId": "35c83046-e68c-42d4-ecd5-af4b48930f52"
      },
      "source": [
        "# find the largest date (use the .max method)\n",
        "\n",
        "df.max\n"
      ],
      "execution_count": 80,
      "outputs": [
        {
          "output_type": "execute_result",
          "data": {
            "text/plain": [
              "<bound method DataFrame.max of                      review_id                 user_id  ...        date  stars\n",
              "0       sybVjriZuCEH09zplkcXAw  qkJtn0Rtz_lKlTs5azBkng  ...  2013-12-29      5\n",
              "1       uZ66BJLPMx6mJAY_6bi8vQ  kNL4SpfIdMC8GywGayDEOw  ...  2016-07-14      4\n",
              "2       uRPUL-YSYuaJZLQp3Z0QlA  dSeYpzf0JkCeARr_CyCh7A  ...  2012-06-26      1\n",
              "3       AGxEC3EtPW1vZH3v2DnPFA  ZhK2xIa4f73JZfua7IP8vA  ...  2016-02-24      3\n",
              "4       7rBHa16cZexmPopeVrGKBw  ClJirlfCI0W0CfpYaWdfEw  ...  2015-05-26      2\n",
              "...                        ...                     ...  ...         ...    ...\n",
              "208161  CNpc_rwGhK9JlcKl7DfpBw  4_1MOsAkv3Xwwlz8N0YXdg  ...  2018-01-14      1\n",
              "208162  NzMD4qtsfsAqwyKLVJhPIg  xg_96kkO-lF9oCc1PzrQgA  ...  2019-09-06      4\n",
              "208163  HbmEOCd2Mrv4iuzyCjkhdg  iu3YFvY06HzYrpzFQdFvIA  ...  2017-08-19      2\n",
              "208164  DEs_4rfcoBpZH1LFn_bd_w  b4vXpAP5wNE-bAPstxO7nA  ...  2019-10-29      4\n",
              "208165  Firb5iZn0wa2qs7BBrwxIw  rLh63PoxknAV52w5IkmcQA  ...  2019-05-05      3\n",
              "\n",
              "[208166 rows x 9 columns]>"
            ]
          },
          "metadata": {},
          "execution_count": 80
        }
      ]
    },
    {
      "cell_type": "markdown",
      "metadata": {
        "id": "Vm0lyRZHu5hl"
      },
      "source": [
        "# Problem 2 (2 points)\n",
        "\n",
        "Construct a **new** dataframe by selecting only the reviews written 1) on or after May 1st 2016 **and** 2) before June 1st 2019. **Save it** to an appropriate location on your Google Drive. (feel free to delete it later)"
      ]
    },
    {
      "cell_type": "code",
      "metadata": {
        "id": "1bx6Gw-sv6Ht",
        "colab": {
          "base_uri": "https://localhost:8080/",
          "height": 340
        },
        "outputId": "c35e458f-7ee2-4a1f-e73d-d0dd6787c8c2"
      },
      "source": [
        "# pick a variable name and set it equal to the approriate subset of your dataframe\n",
        "# (you can use the same variable name as the original dataframe)\n",
        "# remember to select the dates with 2 conditions:\n",
        "# >= '2016/5/1'\n",
        "# < '2019/6/1'\n",
        "\n",
        "\n",
        "df.loc[df.Date>=pd.to_datetime('2016/5/1')]\n",
        "df.loc[df.Date<pd.to_datetime('2019/6/1')]\n"
      ],
      "execution_count": 106,
      "outputs": [
        {
          "output_type": "error",
          "ename": "AttributeError",
          "evalue": "ignored",
          "traceback": [
            "\u001b[0;31m---------------------------------------------------------------------------\u001b[0m",
            "\u001b[0;31mAttributeError\u001b[0m                            Traceback (most recent call last)",
            "\u001b[0;32m<ipython-input-106-82eab9966e6f>\u001b[0m in \u001b[0;36m<module>\u001b[0;34m()\u001b[0m\n\u001b[1;32m      6\u001b[0m \u001b[0;34m\u001b[0m\u001b[0m\n\u001b[1;32m      7\u001b[0m \u001b[0;34m\u001b[0m\u001b[0m\n\u001b[0;32m----> 8\u001b[0;31m \u001b[0mdf\u001b[0m\u001b[0;34m.\u001b[0m\u001b[0mloc\u001b[0m\u001b[0;34m[\u001b[0m\u001b[0mdf\u001b[0m\u001b[0;34m.\u001b[0m\u001b[0mDate\u001b[0m\u001b[0;34m>=\u001b[0m\u001b[0mpd\u001b[0m\u001b[0;34m.\u001b[0m\u001b[0mto_datetime\u001b[0m\u001b[0;34m(\u001b[0m\u001b[0;34m'2016/5/1'\u001b[0m\u001b[0;34m)\u001b[0m\u001b[0;34m]\u001b[0m\u001b[0;34m\u001b[0m\u001b[0;34m\u001b[0m\u001b[0m\n\u001b[0m\u001b[1;32m      9\u001b[0m \u001b[0mdf\u001b[0m\u001b[0;34m.\u001b[0m\u001b[0mloc\u001b[0m\u001b[0;34m[\u001b[0m\u001b[0mdf\u001b[0m\u001b[0;34m.\u001b[0m\u001b[0mDate\u001b[0m\u001b[0;34m<\u001b[0m\u001b[0mpd\u001b[0m\u001b[0;34m.\u001b[0m\u001b[0mto_datetime\u001b[0m\u001b[0;34m(\u001b[0m\u001b[0;34m'2019/6/1'\u001b[0m\u001b[0;34m)\u001b[0m\u001b[0;34m]\u001b[0m\u001b[0;34m\u001b[0m\u001b[0;34m\u001b[0m\u001b[0m\n",
            "\u001b[0;32m/usr/local/lib/python3.7/dist-packages/pandas/core/generic.py\u001b[0m in \u001b[0;36m__getattr__\u001b[0;34m(self, name)\u001b[0m\n\u001b[1;32m   5139\u001b[0m             \u001b[0;32mif\u001b[0m \u001b[0mself\u001b[0m\u001b[0;34m.\u001b[0m\u001b[0m_info_axis\u001b[0m\u001b[0;34m.\u001b[0m\u001b[0m_can_hold_identifiers_and_holds_name\u001b[0m\u001b[0;34m(\u001b[0m\u001b[0mname\u001b[0m\u001b[0;34m)\u001b[0m\u001b[0;34m:\u001b[0m\u001b[0;34m\u001b[0m\u001b[0;34m\u001b[0m\u001b[0m\n\u001b[1;32m   5140\u001b[0m                 \u001b[0;32mreturn\u001b[0m \u001b[0mself\u001b[0m\u001b[0;34m[\u001b[0m\u001b[0mname\u001b[0m\u001b[0;34m]\u001b[0m\u001b[0;34m\u001b[0m\u001b[0;34m\u001b[0m\u001b[0m\n\u001b[0;32m-> 5141\u001b[0;31m             \u001b[0;32mreturn\u001b[0m \u001b[0mobject\u001b[0m\u001b[0;34m.\u001b[0m\u001b[0m__getattribute__\u001b[0m\u001b[0;34m(\u001b[0m\u001b[0mself\u001b[0m\u001b[0;34m,\u001b[0m \u001b[0mname\u001b[0m\u001b[0;34m)\u001b[0m\u001b[0;34m\u001b[0m\u001b[0;34m\u001b[0m\u001b[0m\n\u001b[0m\u001b[1;32m   5142\u001b[0m \u001b[0;34m\u001b[0m\u001b[0m\n\u001b[1;32m   5143\u001b[0m     \u001b[0;32mdef\u001b[0m \u001b[0m__setattr__\u001b[0m\u001b[0;34m(\u001b[0m\u001b[0mself\u001b[0m\u001b[0;34m,\u001b[0m \u001b[0mname\u001b[0m\u001b[0;34m:\u001b[0m \u001b[0mstr\u001b[0m\u001b[0;34m,\u001b[0m \u001b[0mvalue\u001b[0m\u001b[0;34m)\u001b[0m \u001b[0;34m->\u001b[0m \u001b[0;32mNone\u001b[0m\u001b[0;34m:\u001b[0m\u001b[0;34m\u001b[0m\u001b[0;34m\u001b[0m\u001b[0m\n",
            "\u001b[0;31mAttributeError\u001b[0m: 'DataFrame' object has no attribute 'Date'"
          ]
        }
      ]
    },
    {
      "cell_type": "code",
      "metadata": {
        "id": "sr4ftepzF-zq"
      },
      "source": [
        "# check the minimum and maximum dates of the resulting dataframe to confirm you've done this correctly\n",
        "# min date\n",
        "\n",
        "df.loc[df.Date>=pd.to_datetime('2016/5/1')].min\n",
        "df.loc[df.Date<pd.to_datetime('2019/6/1')].max\n",
        "\n"
      ],
      "execution_count": null,
      "outputs": []
    },
    {
      "cell_type": "code",
      "metadata": {
        "id": "JtT_0l7h2wpU"
      },
      "source": [
        "# max date\n",
        "\n",
        "df.loc[df.Date<pd.to_datetime('2019/6/1')].max\n",
        "\n"
      ],
      "execution_count": null,
      "outputs": []
    },
    {
      "cell_type": "code",
      "metadata": {
        "id": "o9rJC3Uuv4Hz"
      },
      "source": [
        "# save the dataset somewhere, give it a meaningful file name\n",
        "\n",
        "\n",
        "\n"
      ],
      "execution_count": null,
      "outputs": []
    },
    {
      "cell_type": "markdown",
      "metadata": {
        "id": "7hdqtvZG2WyH"
      },
      "source": [
        "# Problem 3 (3 points)\n",
        "\n",
        "**Use the dataset created in problem 2**\n",
        "\n",
        "Create a new column `ym` that represents the year and month (drops date and time from dates).\\\n",
        "*Hint use `.dt.to_period` method from [notes](https://colab.research.google.com/drive/1RKy2g2aWOitE2rCQdZli8ERKdrtqU6Cl?usp=sharing).\n",
        "\n",
        "Next, construct a line plot of the average usefulness votes (y-axis) by month between 2016/5 and 2019/5 `ym` (x-axis).\\\n",
        "*Hint - you need to do a groupby plot grouping on `ym` and compute the mean of star ratings.\n",
        "\n",
        "### Use a text cell to answer:\n",
        "1. What seasonal patterns do you see in the average helpfulness votes per review in Quebec?\n",
        "1. Come up with 2 potential explanations for the pattern(s) you've noticed."
      ]
    },
    {
      "cell_type": "markdown",
      "metadata": {
        "id": "4TSxTwNO9SLh"
      },
      "source": [
        "## Problem 3 Answer (edit this cell)\n",
        "1. (Describe the pattern)\n",
        "1. (Speculate why this pattern might exist)"
      ]
    },
    {
      "cell_type": "code",
      "metadata": {
        "id": "WSuD6uNH2SM-"
      },
      "source": [
        "# create 'ym' column\n",
        "cond = df.['year']\n",
        "ym = df.loc[]"
      ],
      "execution_count": null,
      "outputs": []
    },
    {
      "cell_type": "code",
      "metadata": {
        "id": "NFJnyNscd2y4"
      },
      "source": [
        "# check that you've created it correctly by finding the unique values of ym\n",
        "# select the ym column and use the .unique() method\n",
        "\n",
        "\n",
        "\n"
      ],
      "execution_count": null,
      "outputs": []
    },
    {
      "cell_type": "code",
      "metadata": {
        "id": "Eh-DajsdG7Iq"
      },
      "source": [
        "# create the plot using a groupby summary + .plot method\n",
        "# refer to notes for examples\n",
        "\n",
        "\n",
        "\n"
      ],
      "execution_count": null,
      "outputs": []
    },
    {
      "cell_type": "markdown",
      "metadata": {
        "id": "OIrDmJDL2gfG"
      },
      "source": [
        "# Probelm 4 (4 points)\n",
        "\n",
        "Read in the Quebec **business info** dataset, be sure to use a different variable name for this dataframe.\n",
        "\n",
        "## Part A questions (2 pts)\n",
        "1. What is the observational unit of this dataset?\n",
        "1. On what variable should you merge this (right dataframe) **into** the review data (left dataframe)? \n",
        "\n",
        "**Merge business data into the dataframe from Q2.**\n",
        "\n",
        "Notice a column called \"is_open\" - if a business has shut down, this column will have a value of 0, otherwise it will have a value of 1.\n",
        "\n",
        "Construct the line plot where: \n",
        "* x-axis is `ym` \n",
        "* y-axis is average star rating \n",
        "* there are 2 lines: 1. for currently open businesses and 2. closed businesses \n",
        "    * Make sure the 2 lines appear on the same figure.\n",
        "    * You should compute avg. star rating using the `star` variable, not the `biz_star` variable.\n",
        "\n",
        "## Part B questions (2 pts)\n",
        "1. Any difference in patterns between these 2 groups of businesses?\n",
        "1. Speculate on what reason(s) might cause the observed pattern(s).\n",
        "\n"
      ]
    },
    {
      "cell_type": "markdown",
      "metadata": {
        "id": "X3OAH7PsW91-"
      },
      "source": [
        "## Problem 4 Answers (Edit this cell)\n",
        "\n",
        "### Part A\n",
        "\n",
        "1. Each row represents one **_________**\n",
        "1. We should merge on **_________**\n",
        "\n",
        "### Part B\n",
        "\n",
        "1. (Describe any difference in patterns between currently open and shut down businesses)\n",
        "1. 2 possible reasons are:\n",
        "    1. (Clearly explain one hypothesized reason)\n",
        "    1. (Clearly explain a second hypothesized reason)"
      ]
    },
    {
      "cell_type": "code",
      "metadata": {
        "id": "2hfMBmjaB574"
      },
      "source": [
        "# read in the business info file, call the dataframe biz, e.g. biz = pd.read_csv(...)\n",
        "\n",
        "\n",
        "import pandas as pd\n",
        "df = pd.read_csv('drive/My Drive/3509/Quebec_biz.csv')\n"
      ],
      "execution_count": 110,
      "outputs": []
    },
    {
      "cell_type": "code",
      "metadata": {
        "id": "_64Zf-KitgLl",
        "colab": {
          "base_uri": "https://localhost:8080/",
          "height": 556
        },
        "outputId": "3450dd46-5f4a-4c59-feaf-bde7ee8be28d"
      },
      "source": [
        "# Take a look at the first few rows to determine the observational unit\n",
        "\n",
        "df.head()"
      ],
      "execution_count": 111,
      "outputs": [
        {
          "output_type": "execute_result",
          "data": {
            "text/html": [
              "<div>\n",
              "<style scoped>\n",
              "    .dataframe tbody tr th:only-of-type {\n",
              "        vertical-align: middle;\n",
              "    }\n",
              "\n",
              "    .dataframe tbody tr th {\n",
              "        vertical-align: top;\n",
              "    }\n",
              "\n",
              "    .dataframe thead th {\n",
              "        text-align: right;\n",
              "    }\n",
              "</style>\n",
              "<table border=\"1\" class=\"dataframe\">\n",
              "  <thead>\n",
              "    <tr style=\"text-align: right;\">\n",
              "      <th></th>\n",
              "      <th>Unnamed: 0</th>\n",
              "      <th>business_id</th>\n",
              "      <th>name</th>\n",
              "      <th>address</th>\n",
              "      <th>city</th>\n",
              "      <th>state</th>\n",
              "      <th>postal_code</th>\n",
              "      <th>latitude</th>\n",
              "      <th>longitude</th>\n",
              "      <th>biz_stars</th>\n",
              "      <th>review_count</th>\n",
              "      <th>is_open</th>\n",
              "      <th>attributes</th>\n",
              "      <th>categories</th>\n",
              "      <th>hours</th>\n",
              "    </tr>\n",
              "  </thead>\n",
              "  <tbody>\n",
              "    <tr>\n",
              "      <th>0</th>\n",
              "      <td>2</td>\n",
              "      <td>XNoUzKckATkOD1hP6vghZg</td>\n",
              "      <td>Felinus</td>\n",
              "      <td>3554 Rue Notre-Dame O</td>\n",
              "      <td>Montreal</td>\n",
              "      <td>QC</td>\n",
              "      <td>H4C 1P4</td>\n",
              "      <td>45.479984</td>\n",
              "      <td>-73.580070</td>\n",
              "      <td>5.0</td>\n",
              "      <td>5</td>\n",
              "      <td>1</td>\n",
              "      <td>NaN</td>\n",
              "      <td>Pets, Pet Services, Pet Groomers</td>\n",
              "      <td>NaN</td>\n",
              "    </tr>\n",
              "    <tr>\n",
              "      <th>1</th>\n",
              "      <td>31</td>\n",
              "      <td>pcaQDBM6r0PWTXfYZK6RdA</td>\n",
              "      <td>IGA Extra</td>\n",
              "      <td>8130 Boulevard Champlain</td>\n",
              "      <td>Lasalle</td>\n",
              "      <td>QC</td>\n",
              "      <td>H8P 1B4</td>\n",
              "      <td>45.425645</td>\n",
              "      <td>-73.611934</td>\n",
              "      <td>3.0</td>\n",
              "      <td>6</td>\n",
              "      <td>1</td>\n",
              "      <td>{'BusinessParking': \"{'garage': False, 'street...</td>\n",
              "      <td>Food, Grocery</td>\n",
              "      <td>{'Monday': '8:0-22:0', 'Tuesday': '8:0-22:0', ...</td>\n",
              "    </tr>\n",
              "    <tr>\n",
              "      <th>2</th>\n",
              "      <td>43</td>\n",
              "      <td>LoRef3ChgZKbxUio-sHgQg</td>\n",
              "      <td>Amir</td>\n",
              "      <td>5252 Rue Jean Talon O</td>\n",
              "      <td>Montréal</td>\n",
              "      <td>QC</td>\n",
              "      <td>H4P 2A7</td>\n",
              "      <td>45.494870</td>\n",
              "      <td>-73.651904</td>\n",
              "      <td>3.0</td>\n",
              "      <td>18</td>\n",
              "      <td>1</td>\n",
              "      <td>{'RestaurantsAttire': \"u'casual'\", 'Restaurant...</td>\n",
              "      <td>Restaurants, Lebanese, Middle Eastern</td>\n",
              "      <td>NaN</td>\n",
              "    </tr>\n",
              "    <tr>\n",
              "      <th>3</th>\n",
              "      <td>45</td>\n",
              "      <td>_xOeoXfPUQTNlUAhXl32ug</td>\n",
              "      <td>Starbucks</td>\n",
              "      <td>150 Boulevard Crémazie E</td>\n",
              "      <td>Montréal</td>\n",
              "      <td>QC</td>\n",
              "      <td>H2P 1E2</td>\n",
              "      <td>45.542993</td>\n",
              "      <td>-73.640218</td>\n",
              "      <td>3.5</td>\n",
              "      <td>4</td>\n",
              "      <td>1</td>\n",
              "      <td>{'RestaurantsTakeOut': 'True', 'RestaurantsPri...</td>\n",
              "      <td>Coffee &amp; Tea, Food</td>\n",
              "      <td>{'Monday': '5:30-23:0', 'Tuesday': '5:30-23:0'...</td>\n",
              "    </tr>\n",
              "    <tr>\n",
              "      <th>4</th>\n",
              "      <td>57</td>\n",
              "      <td>3BfGGIJn8lxvu1k3ZZnL1w</td>\n",
              "      <td>Théâtre Corona</td>\n",
              "      <td>2490 Rue Notre-Dame O</td>\n",
              "      <td>Montréal</td>\n",
              "      <td>QC</td>\n",
              "      <td>H3J 1N5</td>\n",
              "      <td>45.482777</td>\n",
              "      <td>-73.575006</td>\n",
              "      <td>4.0</td>\n",
              "      <td>18</td>\n",
              "      <td>1</td>\n",
              "      <td>{'OutdoorSeating': 'False', 'RestaurantsPriceR...</td>\n",
              "      <td>Nightlife, Arts &amp; Entertainment, Performing Ar...</td>\n",
              "      <td>NaN</td>\n",
              "    </tr>\n",
              "  </tbody>\n",
              "</table>\n",
              "</div>"
            ],
            "text/plain": [
              "   Unnamed: 0  ...                                              hours\n",
              "0           2  ...                                                NaN\n",
              "1          31  ...  {'Monday': '8:0-22:0', 'Tuesday': '8:0-22:0', ...\n",
              "2          43  ...                                                NaN\n",
              "3          45  ...  {'Monday': '5:30-23:0', 'Tuesday': '5:30-23:0'...\n",
              "4          57  ...                                                NaN\n",
              "\n",
              "[5 rows x 15 columns]"
            ]
          },
          "metadata": {},
          "execution_count": 111
        }
      ]
    },
    {
      "cell_type": "code",
      "metadata": {
        "id": "hlLltBeJtlrH",
        "colab": {
          "base_uri": "https://localhost:8080/",
          "height": 201
        },
        "outputId": "e2c9cf1f-14f9-451e-de35-5498c179bbd0"
      },
      "source": [
        "# merge the 2 datasets\n",
        "\n",
        "\n",
        "df = read.csv(datasetsores, how = 'left', on = 'Store')? "
      ],
      "execution_count": 113,
      "outputs": [
        {
          "output_type": "error",
          "ename": "NameError",
          "evalue": "ignored",
          "traceback": [
            "\u001b[0;31m---------------------------------------------------------------------------\u001b[0m",
            "\u001b[0;31mNameError\u001b[0m                                 Traceback (most recent call last)",
            "\u001b[0;32m<ipython-input-113-1ab30e1b6421>\u001b[0m in \u001b[0;36m<module>\u001b[0;34m()\u001b[0m\n\u001b[1;32m      2\u001b[0m \u001b[0;34m\u001b[0m\u001b[0m\n\u001b[1;32m      3\u001b[0m \u001b[0;34m\u001b[0m\u001b[0m\n\u001b[0;32m----> 4\u001b[0;31m \u001b[0mdf\u001b[0m \u001b[0;34m=\u001b[0m \u001b[0mread\u001b[0m\u001b[0;34m.\u001b[0m\u001b[0mcsv\u001b[0m\u001b[0;34m(\u001b[0m\u001b[0mstores\u001b[0m\u001b[0;34m,\u001b[0m \u001b[0mhow\u001b[0m \u001b[0;34m=\u001b[0m \u001b[0;34m'left'\u001b[0m\u001b[0;34m,\u001b[0m \u001b[0mon\u001b[0m \u001b[0;34m=\u001b[0m \u001b[0;34m'Store'\u001b[0m\u001b[0;34m)\u001b[0m\u001b[0;34m\u001b[0m\u001b[0;34m\u001b[0m\u001b[0m\n\u001b[0m",
            "\u001b[0;31mNameError\u001b[0m: name 'read' is not defined"
          ]
        }
      ]
    },
    {
      "cell_type": "code",
      "metadata": {
        "id": "inLgrx3ztxEJ"
      },
      "source": [
        "# take a look at the columns of the resulting dataframe\n",
        "# make sure it has all the columns from both the review and business datasets\n",
        "\n",
        "\n"
      ],
      "execution_count": null,
      "outputs": []
    },
    {
      "cell_type": "code",
      "metadata": {
        "id": "VTYtASMiuO1Q"
      },
      "source": [
        "# make your plot, use groupby summary and unstack syntax \n",
        "# to construct plot, see examples from notes\n",
        "\n",
        "\n",
        "\n"
      ],
      "execution_count": null,
      "outputs": []
    }
  ]
}